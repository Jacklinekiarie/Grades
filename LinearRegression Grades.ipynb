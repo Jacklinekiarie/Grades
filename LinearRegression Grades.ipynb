{
 "cells": [
  {
   "cell_type": "markdown",
   "id": "03bf177e",
   "metadata": {},
   "source": [
    "Import libraries required"
   ]
  },
  {
   "cell_type": "code",
   "execution_count": 38,
   "id": "8d6727a3",
   "metadata": {},
   "outputs": [],
   "source": [
    "import pandas as pd\n",
    "import numpy as np\n",
    "import sklearn\n",
    "from sklearn import linear_model\n",
    "from sklearn.utils import shuffle\n",
    "import matplotlib.pyplot as plt\n",
    "from matplotlib import style\n",
    "import pickle"
   ]
  },
  {
   "cell_type": "markdown",
   "id": "529be6a0",
   "metadata": {},
   "source": [
    "Read the dataset location"
   ]
  },
  {
   "cell_type": "code",
   "execution_count": 20,
   "id": "2f4669ab",
   "metadata": {},
   "outputs": [
    {
     "data": {
      "text/html": [
       "<div>\n",
       "<style scoped>\n",
       "    .dataframe tbody tr th:only-of-type {\n",
       "        vertical-align: middle;\n",
       "    }\n",
       "\n",
       "    .dataframe tbody tr th {\n",
       "        vertical-align: top;\n",
       "    }\n",
       "\n",
       "    .dataframe thead th {\n",
       "        text-align: right;\n",
       "    }\n",
       "</style>\n",
       "<table border=\"1\" class=\"dataframe\">\n",
       "  <thead>\n",
       "    <tr style=\"text-align: right;\">\n",
       "      <th></th>\n",
       "      <th>school</th>\n",
       "      <th>sex</th>\n",
       "      <th>age</th>\n",
       "      <th>address</th>\n",
       "      <th>famsize</th>\n",
       "      <th>Pstatus</th>\n",
       "      <th>Medu</th>\n",
       "      <th>Fedu</th>\n",
       "      <th>Mjob</th>\n",
       "      <th>Fjob</th>\n",
       "      <th>...</th>\n",
       "      <th>famrel</th>\n",
       "      <th>freetime</th>\n",
       "      <th>goout</th>\n",
       "      <th>Dalc</th>\n",
       "      <th>Walc</th>\n",
       "      <th>health</th>\n",
       "      <th>absences</th>\n",
       "      <th>G1</th>\n",
       "      <th>G2</th>\n",
       "      <th>G3</th>\n",
       "    </tr>\n",
       "  </thead>\n",
       "  <tbody>\n",
       "    <tr>\n",
       "      <th>0</th>\n",
       "      <td>GP</td>\n",
       "      <td>F</td>\n",
       "      <td>18</td>\n",
       "      <td>U</td>\n",
       "      <td>GT3</td>\n",
       "      <td>A</td>\n",
       "      <td>4</td>\n",
       "      <td>4</td>\n",
       "      <td>at_home</td>\n",
       "      <td>teacher</td>\n",
       "      <td>...</td>\n",
       "      <td>4</td>\n",
       "      <td>3</td>\n",
       "      <td>4</td>\n",
       "      <td>1</td>\n",
       "      <td>1</td>\n",
       "      <td>3</td>\n",
       "      <td>6</td>\n",
       "      <td>5</td>\n",
       "      <td>6</td>\n",
       "      <td>6</td>\n",
       "    </tr>\n",
       "    <tr>\n",
       "      <th>1</th>\n",
       "      <td>GP</td>\n",
       "      <td>F</td>\n",
       "      <td>17</td>\n",
       "      <td>U</td>\n",
       "      <td>GT3</td>\n",
       "      <td>T</td>\n",
       "      <td>1</td>\n",
       "      <td>1</td>\n",
       "      <td>at_home</td>\n",
       "      <td>other</td>\n",
       "      <td>...</td>\n",
       "      <td>5</td>\n",
       "      <td>3</td>\n",
       "      <td>3</td>\n",
       "      <td>1</td>\n",
       "      <td>1</td>\n",
       "      <td>3</td>\n",
       "      <td>4</td>\n",
       "      <td>5</td>\n",
       "      <td>5</td>\n",
       "      <td>6</td>\n",
       "    </tr>\n",
       "    <tr>\n",
       "      <th>2</th>\n",
       "      <td>GP</td>\n",
       "      <td>F</td>\n",
       "      <td>15</td>\n",
       "      <td>U</td>\n",
       "      <td>LE3</td>\n",
       "      <td>T</td>\n",
       "      <td>1</td>\n",
       "      <td>1</td>\n",
       "      <td>at_home</td>\n",
       "      <td>other</td>\n",
       "      <td>...</td>\n",
       "      <td>4</td>\n",
       "      <td>3</td>\n",
       "      <td>2</td>\n",
       "      <td>2</td>\n",
       "      <td>3</td>\n",
       "      <td>3</td>\n",
       "      <td>10</td>\n",
       "      <td>7</td>\n",
       "      <td>8</td>\n",
       "      <td>10</td>\n",
       "    </tr>\n",
       "    <tr>\n",
       "      <th>3</th>\n",
       "      <td>GP</td>\n",
       "      <td>F</td>\n",
       "      <td>15</td>\n",
       "      <td>U</td>\n",
       "      <td>GT3</td>\n",
       "      <td>T</td>\n",
       "      <td>4</td>\n",
       "      <td>2</td>\n",
       "      <td>health</td>\n",
       "      <td>services</td>\n",
       "      <td>...</td>\n",
       "      <td>3</td>\n",
       "      <td>2</td>\n",
       "      <td>2</td>\n",
       "      <td>1</td>\n",
       "      <td>1</td>\n",
       "      <td>5</td>\n",
       "      <td>2</td>\n",
       "      <td>15</td>\n",
       "      <td>14</td>\n",
       "      <td>15</td>\n",
       "    </tr>\n",
       "    <tr>\n",
       "      <th>4</th>\n",
       "      <td>GP</td>\n",
       "      <td>F</td>\n",
       "      <td>16</td>\n",
       "      <td>U</td>\n",
       "      <td>GT3</td>\n",
       "      <td>T</td>\n",
       "      <td>3</td>\n",
       "      <td>3</td>\n",
       "      <td>other</td>\n",
       "      <td>other</td>\n",
       "      <td>...</td>\n",
       "      <td>4</td>\n",
       "      <td>3</td>\n",
       "      <td>2</td>\n",
       "      <td>1</td>\n",
       "      <td>2</td>\n",
       "      <td>5</td>\n",
       "      <td>4</td>\n",
       "      <td>6</td>\n",
       "      <td>10</td>\n",
       "      <td>10</td>\n",
       "    </tr>\n",
       "  </tbody>\n",
       "</table>\n",
       "<p>5 rows × 33 columns</p>\n",
       "</div>"
      ],
      "text/plain": [
       "  school sex  age address famsize Pstatus  Medu  Fedu     Mjob      Fjob  ...  \\\n",
       "0     GP   F   18       U     GT3       A     4     4  at_home   teacher  ...   \n",
       "1     GP   F   17       U     GT3       T     1     1  at_home     other  ...   \n",
       "2     GP   F   15       U     LE3       T     1     1  at_home     other  ...   \n",
       "3     GP   F   15       U     GT3       T     4     2   health  services  ...   \n",
       "4     GP   F   16       U     GT3       T     3     3    other     other  ...   \n",
       "\n",
       "  famrel freetime  goout  Dalc  Walc health absences  G1  G2  G3  \n",
       "0      4        3      4     1     1      3        6   5   6   6  \n",
       "1      5        3      3     1     1      3        4   5   5   6  \n",
       "2      4        3      2     2     3      3       10   7   8  10  \n",
       "3      3        2      2     1     1      5        2  15  14  15  \n",
       "4      4        3      2     1     2      5        4   6  10  10  \n",
       "\n",
       "[5 rows x 33 columns]"
      ]
     },
     "execution_count": 20,
     "metadata": {},
     "output_type": "execute_result"
    }
   ],
   "source": [
    "dataset = pd.read_csv(\"C:/Users/user/Downloads/student/student-mat.csv\", sep=\";\")\n",
    "dataset.head()"
   ]
  },
  {
   "cell_type": "markdown",
   "id": "1d37baff",
   "metadata": {},
   "source": [
    "Select few fields that will be used to determine the final grade"
   ]
  },
  {
   "cell_type": "code",
   "execution_count": 31,
   "id": "ef8d1ea8",
   "metadata": {},
   "outputs": [
    {
     "data": {
      "text/html": [
       "<div>\n",
       "<style scoped>\n",
       "    .dataframe tbody tr th:only-of-type {\n",
       "        vertical-align: middle;\n",
       "    }\n",
       "\n",
       "    .dataframe tbody tr th {\n",
       "        vertical-align: top;\n",
       "    }\n",
       "\n",
       "    .dataframe thead th {\n",
       "        text-align: right;\n",
       "    }\n",
       "</style>\n",
       "<table border=\"1\" class=\"dataframe\">\n",
       "  <thead>\n",
       "    <tr style=\"text-align: right;\">\n",
       "      <th></th>\n",
       "      <th>G1</th>\n",
       "      <th>G2</th>\n",
       "      <th>G3</th>\n",
       "      <th>absences</th>\n",
       "      <th>freetime</th>\n",
       "    </tr>\n",
       "  </thead>\n",
       "  <tbody>\n",
       "    <tr>\n",
       "      <th>0</th>\n",
       "      <td>5</td>\n",
       "      <td>6</td>\n",
       "      <td>6</td>\n",
       "      <td>6</td>\n",
       "      <td>3</td>\n",
       "    </tr>\n",
       "    <tr>\n",
       "      <th>1</th>\n",
       "      <td>5</td>\n",
       "      <td>5</td>\n",
       "      <td>6</td>\n",
       "      <td>4</td>\n",
       "      <td>3</td>\n",
       "    </tr>\n",
       "    <tr>\n",
       "      <th>2</th>\n",
       "      <td>7</td>\n",
       "      <td>8</td>\n",
       "      <td>10</td>\n",
       "      <td>10</td>\n",
       "      <td>3</td>\n",
       "    </tr>\n",
       "    <tr>\n",
       "      <th>3</th>\n",
       "      <td>15</td>\n",
       "      <td>14</td>\n",
       "      <td>15</td>\n",
       "      <td>2</td>\n",
       "      <td>2</td>\n",
       "    </tr>\n",
       "    <tr>\n",
       "      <th>4</th>\n",
       "      <td>6</td>\n",
       "      <td>10</td>\n",
       "      <td>10</td>\n",
       "      <td>4</td>\n",
       "      <td>3</td>\n",
       "    </tr>\n",
       "  </tbody>\n",
       "</table>\n",
       "</div>"
      ],
      "text/plain": [
       "   G1  G2  G3  absences  freetime\n",
       "0   5   6   6         6         3\n",
       "1   5   5   6         4         3\n",
       "2   7   8  10        10         3\n",
       "3  15  14  15         2         2\n",
       "4   6  10  10         4         3"
      ]
     },
     "execution_count": 31,
     "metadata": {},
     "output_type": "execute_result"
    }
   ],
   "source": [
    "dataset = dataset[[\"G1\", \"G2\", \"G3\", \"absences\", \"freetime\"]]\n",
    "dataset.head()"
   ]
  },
  {
   "cell_type": "code",
   "execution_count": 35,
   "id": "07798f6e",
   "metadata": {},
   "outputs": [
    {
     "name": "stderr",
     "output_type": "stream",
     "text": [
      "C:\\Users\\user\\AppData\\Local\\Temp\\ipykernel_9144\\2696482324.py:2: FutureWarning: In a future version of pandas all arguments of DataFrame.drop except for the argument 'labels' will be keyword-only.\n",
      "  x = np.array(dataset.drop([\"G3\"], 1))\n"
     ]
    }
   ],
   "source": [
    "#predict= \"G3\"\n",
    "x = np.array(dataset.drop([\"G3\"], 1))\n",
    "y = np.array(dataset[\"G3\"])\n",
    "x_train, x_test, y_train, y_test = sklearn.model_selection.train_test_split(x, y, test_size=0.1)"
   ]
  },
  {
   "cell_type": "markdown",
   "id": "1ba1008d",
   "metadata": {},
   "source": [
    "Implementing the linear Regression"
   ]
  },
  {
   "cell_type": "code",
   "execution_count": 43,
   "id": "06824e1c",
   "metadata": {},
   "outputs": [
    {
     "name": "stdout",
     "output_type": "stream",
     "text": [
      "Accurracy0.8142015719072124\n",
      "Accurracy0.8142015719072124\n",
      "Accurracy0.8142015719072124\n",
      "Accurracy0.8142015719072124\n",
      "Accurracy0.8142015719072124\n",
      "Accurracy0.8142015719072124\n",
      "Accurracy0.8142015719072124\n",
      "Accurracy0.8142015719072124\n",
      "Accurracy0.8142015719072124\n",
      "Accurracy0.8142015719072124\n",
      "Accurracy0.8142015719072124\n",
      "Accurracy0.8142015719072124\n",
      "Accurracy0.8142015719072124\n",
      "Accurracy0.8142015719072124\n",
      "Accurracy0.8142015719072124\n",
      "Accurracy0.8142015719072124\n",
      "Accurracy0.8142015719072124\n",
      "Accurracy0.8142015719072124\n",
      "Accurracy0.8142015719072124\n",
      "Accurracy0.8142015719072124\n"
     ]
    }
   ],
   "source": [
    "best = 0\n",
    "for _ in range(20):   \n",
    "    linear = linear_model.LinearRegression()\n",
    "    linear.fit(x_train, y_train)\n",
    "    acc = linear.score(x_test, y_test)\n",
    "    print(\"Accurracy\" + str(acc))\n",
    "    \n",
    "  \n",
    "    # If the current model has a better score than one we've already trained then save it\n",
    "    if acc > best:\n",
    "        best = acc\n",
    "        with open(\"studentgrades.pickle\", \"wb\") as f:\n",
    "            pickle.dump(linear, f)"
   ]
  },
  {
   "cell_type": "code",
   "execution_count": 51,
   "id": "96ab99c2",
   "metadata": {},
   "outputs": [
    {
     "name": "stdout",
     "output_type": "stream",
     "text": [
      "12.070021697999813 [12 12 13  3] 13\n",
      "14.921580061363782 [15 15  0  2] 15\n",
      "10.637989734004666 [10 11  6  4] 11\n",
      "9.337924290091504 [10 10  4  2] 11\n",
      "7.030197011615101 [8 8 0 3] 0\n",
      "15.155543060774429 [16 15  2  2] 15\n",
      "18.564736693244768 [17 18  0  5] 18\n",
      "11.44187550388661 [12 11 16  5] 12\n",
      "5.721939900125324 [6 7 0 3] 0\n",
      "8.815870701416614 [10  9 10  4] 10\n",
      "19.205388451984305 [18 18 24  2] 18\n",
      "18.277727537275638 [16 18  0  4] 18\n",
      "9.298464254490426 [ 9 10  4  3] 10\n",
      "12.728354826842368 [13 12 20  5] 12\n",
      "13.697637474456949 [12 14  0  4] 15\n",
      "13.126633855333234 [13 13 14  2] 14\n",
      "15.129669146130754 [14 15  0  5] 15\n",
      "12.592074994353357 [12 13  0  3] 14\n",
      "6.455097266381728 [8 7 8 4] 8\n",
      "11.973419672051945 [10 12 16  4] 11\n",
      "9.47938109734259 [10 10  8  2] 10\n",
      "5.076112043587755 [ 6  6 13  2] 8\n",
      "4.129688033159612 [6 5 7 4] 6\n",
      "7.9058926184177025 [8 9 4 1] 10\n",
      "17.671359716339147 [17 17 13  2] 17\n",
      "4.9033865759908615 [7 6 0 3] 0\n",
      "11.557240917875307 [12 12  2  2] 11\n",
      "11.800694496776396 [11 12 10  3] 13\n",
      "7.061465379639564 [7 8 2 4] 9\n",
      "9.35582460041997 [ 8  9 38  3] 8\n",
      "8.993772851454235 [ 8 10  0  3] 11\n",
      "8.338454123104878 [10  9  0  3] 9\n",
      "3.551573887433044 [3 5 8 3] 5\n",
      "9.29738311351666 [11  9 19  4] 10\n",
      "-0.3344025603861267 [11  0  0  3] 0\n",
      "11.627969321500847 [12 12  4  2] 13\n",
      "8.294898546036837 [8 9 8 3] 10\n",
      "8.830538255669131 [ 7 10  0  3] 11\n",
      "3.7583640602861887 [6 5 0 3] 0\n",
      "3.736586271752169 [5 5 4 3] 6\n"
     ]
    }
   ],
   "source": [
    "prediction = linear.predict(x_test)\n",
    "\n",
    "for x in range (len(prediction)):\n",
    "    print(prediction[x], x_test[x], y_test[x])"
   ]
  },
  {
   "cell_type": "markdown",
   "id": "1a7e37c9",
   "metadata": {},
   "source": [
    "Saving model"
   ]
  },
  {
   "cell_type": "code",
   "execution_count": 39,
   "id": "c659848c",
   "metadata": {},
   "outputs": [],
   "source": [
    "with open(\"studentgrades.pickle\", \"wb\") as f:\n",
    "    pickle.dump(linear, f)"
   ]
  },
  {
   "cell_type": "markdown",
   "id": "482677e5",
   "metadata": {},
   "source": [
    "Loading our model"
   ]
  },
  {
   "cell_type": "code",
   "execution_count": 40,
   "id": "780ce1f5",
   "metadata": {},
   "outputs": [],
   "source": [
    "pickle_in = open(\"studentgrades.pickle\", \"rb\")\n",
    "linear = pickle.load(pickle_in)\n"
   ]
  },
  {
   "cell_type": "code",
   "execution_count": 47,
   "id": "3b95d50b",
   "metadata": {},
   "outputs": [
    {
     "name": "stderr",
     "output_type": "stream",
     "text": [
      "No artists with labels found to put in legend.  Note that artists whose label start with an underscore are ignored when legend() is called with no argument.\n"
     ]
    },
    {
     "data": {
      "image/png": "[encoded data removed]",
      "text/plain": [
       "<Figure size 432x288 with 1 Axes>"
      ]
     },
     "metadata": {
      "needs_background": "light"
     },
     "output_type": "display_data"
    }
   ],
   "source": [
    "# Drawing and plotting model\n",
    "plot = \"G1\" # Change this to G1, G2, freetime or absences to see other graphs\n",
    "plt.scatter(dataset[plot], dataset[\"G3\"]) \n",
    "plt.legend(loc=4)\n",
    "plt.xlabel(plot)\n",
    "plt.ylabel(\"Final Grade\")\n",
    "plt.show()"
   ]
  },
  {
   "cell_type": "code",
   "execution_count": 48,
   "id": "22356b47",
   "metadata": {},
   "outputs": [
    {
     "name": "stderr",
     "output_type": "stream",
     "text": [
      "No artists with labels found to put in legend.  Note that artists whose label start with an underscore are ignored when legend() is called with no argument.\n"
     ]
    },
    {
     "data": {
      "image/png": "[encoded data removed]",
      "text/plain": [
       "<Figure size 432x288 with 1 Axes>"
      ]
     },
     "metadata": {
      "needs_background": "light"
     },
     "output_type": "display_data"
    }
   ],
   "source": [
    "# Drawing and plotting model\n",
    "plot = \"G2\" # Change this to G1, G2, freetime or absences to see other graphs\n",
    "plt.scatter(dataset[plot], dataset[\"G3\"]) \n",
    "plt.legend(loc=4)\n",
    "plt.xlabel(plot)\n",
    "plt.ylabel(\"Final Grade\")\n",
    "plt.show()"
   ]
  },
  {
   "cell_type": "code",
   "execution_count": 49,
   "id": "351909cf",
   "metadata": {},
   "outputs": [
    {
     "name": "stderr",
     "output_type": "stream",
     "text": [
      "No artists with labels found to put in legend.  Note that artists whose label start with an underscore are ignored when legend() is called with no argument.\n"
     ]
    },
    {
     "data": {
      "image/png": "[encoded data removed]",
      "text/plain": [
       "<Figure size 432x288 with 1 Axes>"
      ]
     },
     "metadata": {
      "needs_background": "light"
     },
     "output_type": "display_data"
    }
   ],
   "source": [
    "# Drawing and plotting model\n",
    "plot = \"absences\" # Change this to G1, G2, freetime or absences to see other graphs\n",
    "plt.scatter(dataset[plot], dataset[\"G3\"]) \n",
    "plt.legend(loc=4)\n",
    "plt.xlabel(plot)\n",
    "plt.ylabel(\"Final Grade\")\n",
    "plt.show()"
   ]
  },
  {
   "cell_type": "code",
   "execution_count": 50,
   "id": "7daff63c",
   "metadata": {},
   "outputs": [
    {
     "name": "stderr",
     "output_type": "stream",
     "text": [
      "No artists with labels found to put in legend.  Note that artists whose label start with an underscore are ignored when legend() is called with no argument.\n"
     ]
    },
    {
     "data": {
      "image/png": "[encoded data removed]",
      "text/plain": [
       "<Figure size 432x288 with 1 Axes>"
      ]
     },
     "metadata": {
      "needs_background": "light"
     },
     "output_type": "display_data"
    }
   ],
   "source": [
    "# Drawing and plotting model\n",
    "plot = \"freetime\" # Change this to G1, G2, freetime or absences to see other graphs\n",
    "plt.scatter(dataset[plot], dataset[\"G3\"]) \n",
    "plt.legend(loc=4)\n",
    "plt.xlabel(plot)\n",
    "plt.ylabel(\"Final Grade\")\n",
    "plt.show()"
   ]
  },
  {
   "cell_type": "code",
   "execution_count": null,
   "id": "1490e25b",
   "metadata": {},
   "outputs": [],
   "source": []
  }
 ],
 "metadata": {
  "kernelspec": {
   "display_name": "Python 3 (ipykernel)",
   "language": "python",
   "name": "python3"
  },
  "language_info": {
   "codemirror_mode": {
    "name": "ipython",
    "version": 3
   },
   "file_extension": ".py",
   "mimetype": "text/x-python",
   "name": "python",
   "nbconvert_exporter": "python",
   "pygments_lexer": "ipython3",
   "version": "3.9.12"
  }
 },
 "nbformat": 4,
 "nbformat_minor": 5
}
